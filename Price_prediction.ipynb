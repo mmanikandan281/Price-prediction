{
  "nbformat": 4,
  "nbformat_minor": 0,
  "metadata": {
    "colab": {
      "provenance": []
    },
    "kernelspec": {
      "name": "python3",
      "display_name": "Python 3"
    },
    "language_info": {
      "name": "python"
    }
  },
  "cells": [
    {
      "cell_type": "code",
      "execution_count": 4,
      "metadata": {
        "cellView": "form",
        "id": "q8N3U7mfBNP0"
      },
      "outputs": [],
      "source": [
        "# @title House price prediction using linear regression\n",
        "\n"
      ]
    },
    {
      "cell_type": "code",
      "source": [
        "# Import the necessary libraries\n",
        "import numpy as np\n",
        "from sklearn.linear_model import LinearRegression\n",
        "\n",
        "# Sample data: House size (in square feet) and corresponding prices (in thousands of dollars)\n",
        "X = np.array([1400, 1600, 1700, 1875, 1100, 1550, 2350, 2450, 1425, 1700]).reshape(-1, 1)\n",
        "y = np.array([245, 312, 279, 308, 199, 219, 405, 324, 319, 255])\n",
        "\n",
        "# Create a linear regression model\n",
        "model = LinearRegression()\n",
        "\n",
        "# Train the model on the data\n",
        "model.fit(X, y)\n",
        "\n",
        "# Predict the price of a house with size 2000 square feet\n",
        "predicted_price = model.predict([[2000]])\n",
        "\n",
        "# Print the predicted price\n",
        "print(\"Predicted price for a 2000 sq. ft. house:\", predicted_price[0])"
      ],
      "metadata": {
        "colab": {
          "base_uri": "https://localhost:8080/"
        },
        "id": "3W4TYxCXB8TD",
        "outputId": "be443732-4861-409e-8b3b-c83da04d3bf9"
      },
      "execution_count": 3,
      "outputs": [
        {
          "output_type": "stream",
          "name": "stdout",
          "text": [
            "Predicted price for a 2000 sq. ft. house: 317.7838052815781\n"
          ]
        }
      ]
    }
  ]
}